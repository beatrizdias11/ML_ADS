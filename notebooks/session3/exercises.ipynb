{
 "cells": [
  {
   "cell_type": "markdown",
   "source": [
    "# Data Preprocessing Exercices"
   ],
   "metadata": {
    "collapsed": false
   },
   "id": "40e5b460af82955a"
  },
  {
   "cell_type": "code",
   "outputs": [],
   "source": [
    "# load the wines dataset (datasets/wines.csv)\n",
    "# add code here\n",
    "import pandas as pd"
   ],
   "metadata": {
    "collapsed": false
   },
   "id": "f9f87e9d85c9f9c7"
  },
  {
   "cell_type": "code",
   "outputs": [],
   "source": [
    "# check for missing values in the dataset\n",
    "# add code here\n"
   ],
   "metadata": {
    "collapsed": false
   },
   "id": "b7d94c89a0a186f4"
  },
  {
   "cell_type": "code",
   "outputs": [],
   "source": [
    "# if any, impute the missing values with the mean of the column\n",
    "# add code here\n"
   ],
   "metadata": {
    "collapsed": false
   },
   "id": "9653924f6491b797"
  },
  {
   "cell_type": "code",
   "outputs": [],
   "source": [
    "# scale the dataset using two different scaling methods\n",
    "# add code here\n"
   ],
   "metadata": {
    "collapsed": false
   },
   "id": "51e710736e3e7f4d"
  },
  {
   "cell_type": "code",
   "outputs": [],
   "source": [
    "# add code here\n"
   ],
   "metadata": {
    "collapsed": false
   },
   "id": "ddc54edebc1097e3"
  },
  {
   "cell_type": "code",
   "outputs": [],
   "source": [
    "# perform feature selection using two different methods\n",
    "# add code here\n"
   ],
   "metadata": {
    "collapsed": false
   },
   "id": "14fe105c4c489aa6"
  },
  {
   "cell_type": "code",
   "outputs": [],
   "source": [
    "# add code here\n"
   ],
   "metadata": {
    "collapsed": false
   },
   "id": "591dcd7ba5e5cf1d"
  },
  {
   "cell_type": "code",
   "outputs": [],
   "source": [
    "# compare the results of the two feature selection methods\n"
   ],
   "metadata": {
    "collapsed": false
   },
   "id": "1d72df37c72de044"
  }
 ],
 "metadata": {
  "kernelspec": {
   "display_name": "Python 3",
   "language": "python",
   "name": "python3"
  },
  "language_info": {
   "codemirror_mode": {
    "name": "ipython",
    "version": 2
   },
   "file_extension": ".py",
   "mimetype": "text/x-python",
   "name": "python",
   "nbconvert_exporter": "python",
   "pygments_lexer": "ipython2",
   "version": "2.7.6"
  }
 },
 "nbformat": 4,
 "nbformat_minor": 5
}
