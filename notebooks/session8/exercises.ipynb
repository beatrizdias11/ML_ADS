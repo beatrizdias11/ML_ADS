{
 "cells": [
  {
   "cell_type": "markdown",
   "source": [
    "# Load a dataset of your choice from the datasets directory (breast_cancer.csv --> binary classification, iris.csv --> multiclass classification, wines.csv --> multiclass classification, diabetes.csv --> regression)"
   ],
   "metadata": {
    "collapsed": false
   },
   "id": "b77b00f2c6c7e203"
  },
  {
   "cell_type": "code",
   "outputs": [
    {
     "data": {
      "text/plain": "         diagnosis  radius_mean  texture_mean  perimeter_mean  area_mean  \\\nid                                                                         \n842302           M        17.99         10.38          122.80     1001.0   \n842517           M        20.57         17.77          132.90     1326.0   \n84300903         M        19.69         21.25          130.00     1203.0   \n84348301         M        11.42         20.38           77.58      386.1   \n84358402         M        20.29         14.34          135.10     1297.0   \n...            ...          ...           ...             ...        ...   \n926424           M        21.56         22.39          142.00     1479.0   \n926682           M        20.13         28.25          131.20     1261.0   \n926954           M        16.60         28.08          108.30      858.1   \n927241           M        20.60         29.33          140.10     1265.0   \n92751            B         7.76         24.54           47.92      181.0   \n\n          smoothness_mean  compactness_mean  concavity_mean  \\\nid                                                            \n842302            0.11840           0.27760         0.30010   \n842517            0.08474           0.07864         0.08690   \n84300903          0.10960           0.15990         0.19740   \n84348301          0.14250           0.28390         0.24140   \n84358402          0.10030           0.13280         0.19800   \n...                   ...               ...             ...   \n926424            0.11100           0.11590         0.24390   \n926682            0.09780           0.10340         0.14400   \n926954            0.08455           0.10230         0.09251   \n927241            0.11780           0.27700         0.35140   \n92751             0.05263           0.04362         0.00000   \n\n          concave_points_mean  symmetry_mean  ...  radius_worst  \\\nid                                            ...                 \n842302                0.14710         0.2419  ...        25.380   \n842517                0.07017         0.1812  ...        24.990   \n84300903              0.12790         0.2069  ...        23.570   \n84348301              0.10520         0.2597  ...        14.910   \n84358402              0.10430         0.1809  ...        22.540   \n...                       ...            ...  ...           ...   \n926424                0.13890         0.1726  ...        25.450   \n926682                0.09791         0.1752  ...        23.690   \n926954                0.05302         0.1590  ...        18.980   \n927241                0.15200         0.2397  ...        25.740   \n92751                 0.00000         0.1587  ...         9.456   \n\n          texture_worst  perimeter_worst  area_worst  smoothness_worst  \\\nid                                                                       \n842302            17.33           184.60      2019.0           0.16220   \n842517            23.41           158.80      1956.0           0.12380   \n84300903          25.53           152.50      1709.0           0.14440   \n84348301          26.50            98.87       567.7           0.20980   \n84358402          16.67           152.20      1575.0           0.13740   \n...                 ...              ...         ...               ...   \n926424            26.40           166.10      2027.0           0.14100   \n926682            38.25           155.00      1731.0           0.11660   \n926954            34.12           126.70      1124.0           0.11390   \n927241            39.42           184.60      1821.0           0.16500   \n92751             30.37            59.16       268.6           0.08996   \n\n          compactness_worst  concavity_worst  concave_points_worst  \\\nid                                                                   \n842302              0.66560           0.7119                0.2654   \n842517              0.18660           0.2416                0.1860   \n84300903            0.42450           0.4504                0.2430   \n84348301            0.86630           0.6869                0.2575   \n84358402            0.20500           0.4000                0.1625   \n...                     ...              ...                   ...   \n926424              0.21130           0.4107                0.2216   \n926682              0.19220           0.3215                0.1628   \n926954              0.30940           0.3403                0.1418   \n927241              0.86810           0.9387                0.2650   \n92751               0.06444           0.0000                0.0000   \n\n          symmetry_worst  fractal_dimension_worst  \nid                                                 \n842302            0.4601                  0.11890  \n842517            0.2750                  0.08902  \n84300903          0.3613                  0.08758  \n84348301          0.6638                  0.17300  \n84358402          0.2364                  0.07678  \n...                  ...                      ...  \n926424            0.2060                  0.07115  \n926682            0.2572                  0.06637  \n926954            0.2218                  0.07820  \n927241            0.4087                  0.12400  \n92751             0.2871                  0.07039  \n\n[569 rows x 31 columns]",
      "text/html": "<div>\n<style scoped>\n    .dataframe tbody tr th:only-of-type {\n        vertical-align: middle;\n    }\n\n    .dataframe tbody tr th {\n        vertical-align: top;\n    }\n\n    .dataframe thead th {\n        text-align: right;\n    }\n</style>\n<table border=\"1\" class=\"dataframe\">\n  <thead>\n    <tr style=\"text-align: right;\">\n      <th></th>\n      <th>diagnosis</th>\n      <th>radius_mean</th>\n      <th>texture_mean</th>\n      <th>perimeter_mean</th>\n      <th>area_mean</th>\n      <th>smoothness_mean</th>\n      <th>compactness_mean</th>\n      <th>concavity_mean</th>\n      <th>concave_points_mean</th>\n      <th>symmetry_mean</th>\n      <th>...</th>\n      <th>radius_worst</th>\n      <th>texture_worst</th>\n      <th>perimeter_worst</th>\n      <th>area_worst</th>\n      <th>smoothness_worst</th>\n      <th>compactness_worst</th>\n      <th>concavity_worst</th>\n      <th>concave_points_worst</th>\n      <th>symmetry_worst</th>\n      <th>fractal_dimension_worst</th>\n    </tr>\n    <tr>\n      <th>id</th>\n      <th></th>\n      <th></th>\n      <th></th>\n      <th></th>\n      <th></th>\n      <th></th>\n      <th></th>\n      <th></th>\n      <th></th>\n      <th></th>\n      <th></th>\n      <th></th>\n      <th></th>\n      <th></th>\n      <th></th>\n      <th></th>\n      <th></th>\n      <th></th>\n      <th></th>\n      <th></th>\n      <th></th>\n    </tr>\n  </thead>\n  <tbody>\n    <tr>\n      <th>842302</th>\n      <td>M</td>\n      <td>17.99</td>\n      <td>10.38</td>\n      <td>122.80</td>\n      <td>1001.0</td>\n      <td>0.11840</td>\n      <td>0.27760</td>\n      <td>0.30010</td>\n      <td>0.14710</td>\n      <td>0.2419</td>\n      <td>...</td>\n      <td>25.380</td>\n      <td>17.33</td>\n      <td>184.60</td>\n      <td>2019.0</td>\n      <td>0.16220</td>\n      <td>0.66560</td>\n      <td>0.7119</td>\n      <td>0.2654</td>\n      <td>0.4601</td>\n      <td>0.11890</td>\n    </tr>\n    <tr>\n      <th>842517</th>\n      <td>M</td>\n      <td>20.57</td>\n      <td>17.77</td>\n      <td>132.90</td>\n      <td>1326.0</td>\n      <td>0.08474</td>\n      <td>0.07864</td>\n      <td>0.08690</td>\n      <td>0.07017</td>\n      <td>0.1812</td>\n      <td>...</td>\n      <td>24.990</td>\n      <td>23.41</td>\n      <td>158.80</td>\n      <td>1956.0</td>\n      <td>0.12380</td>\n      <td>0.18660</td>\n      <td>0.2416</td>\n      <td>0.1860</td>\n      <td>0.2750</td>\n      <td>0.08902</td>\n    </tr>\n    <tr>\n      <th>84300903</th>\n      <td>M</td>\n      <td>19.69</td>\n      <td>21.25</td>\n      <td>130.00</td>\n      <td>1203.0</td>\n      <td>0.10960</td>\n      <td>0.15990</td>\n      <td>0.19740</td>\n      <td>0.12790</td>\n      <td>0.2069</td>\n      <td>...</td>\n      <td>23.570</td>\n      <td>25.53</td>\n      <td>152.50</td>\n      <td>1709.0</td>\n      <td>0.14440</td>\n      <td>0.42450</td>\n      <td>0.4504</td>\n      <td>0.2430</td>\n      <td>0.3613</td>\n      <td>0.08758</td>\n    </tr>\n    <tr>\n      <th>84348301</th>\n      <td>M</td>\n      <td>11.42</td>\n      <td>20.38</td>\n      <td>77.58</td>\n      <td>386.1</td>\n      <td>0.14250</td>\n      <td>0.28390</td>\n      <td>0.24140</td>\n      <td>0.10520</td>\n      <td>0.2597</td>\n      <td>...</td>\n      <td>14.910</td>\n      <td>26.50</td>\n      <td>98.87</td>\n      <td>567.7</td>\n      <td>0.20980</td>\n      <td>0.86630</td>\n      <td>0.6869</td>\n      <td>0.2575</td>\n      <td>0.6638</td>\n      <td>0.17300</td>\n    </tr>\n    <tr>\n      <th>84358402</th>\n      <td>M</td>\n      <td>20.29</td>\n      <td>14.34</td>\n      <td>135.10</td>\n      <td>1297.0</td>\n      <td>0.10030</td>\n      <td>0.13280</td>\n      <td>0.19800</td>\n      <td>0.10430</td>\n      <td>0.1809</td>\n      <td>...</td>\n      <td>22.540</td>\n      <td>16.67</td>\n      <td>152.20</td>\n      <td>1575.0</td>\n      <td>0.13740</td>\n      <td>0.20500</td>\n      <td>0.4000</td>\n      <td>0.1625</td>\n      <td>0.2364</td>\n      <td>0.07678</td>\n    </tr>\n    <tr>\n      <th>...</th>\n      <td>...</td>\n      <td>...</td>\n      <td>...</td>\n      <td>...</td>\n      <td>...</td>\n      <td>...</td>\n      <td>...</td>\n      <td>...</td>\n      <td>...</td>\n      <td>...</td>\n      <td>...</td>\n      <td>...</td>\n      <td>...</td>\n      <td>...</td>\n      <td>...</td>\n      <td>...</td>\n      <td>...</td>\n      <td>...</td>\n      <td>...</td>\n      <td>...</td>\n      <td>...</td>\n    </tr>\n    <tr>\n      <th>926424</th>\n      <td>M</td>\n      <td>21.56</td>\n      <td>22.39</td>\n      <td>142.00</td>\n      <td>1479.0</td>\n      <td>0.11100</td>\n      <td>0.11590</td>\n      <td>0.24390</td>\n      <td>0.13890</td>\n      <td>0.1726</td>\n      <td>...</td>\n      <td>25.450</td>\n      <td>26.40</td>\n      <td>166.10</td>\n      <td>2027.0</td>\n      <td>0.14100</td>\n      <td>0.21130</td>\n      <td>0.4107</td>\n      <td>0.2216</td>\n      <td>0.2060</td>\n      <td>0.07115</td>\n    </tr>\n    <tr>\n      <th>926682</th>\n      <td>M</td>\n      <td>20.13</td>\n      <td>28.25</td>\n      <td>131.20</td>\n      <td>1261.0</td>\n      <td>0.09780</td>\n      <td>0.10340</td>\n      <td>0.14400</td>\n      <td>0.09791</td>\n      <td>0.1752</td>\n      <td>...</td>\n      <td>23.690</td>\n      <td>38.25</td>\n      <td>155.00</td>\n      <td>1731.0</td>\n      <td>0.11660</td>\n      <td>0.19220</td>\n      <td>0.3215</td>\n      <td>0.1628</td>\n      <td>0.2572</td>\n      <td>0.06637</td>\n    </tr>\n    <tr>\n      <th>926954</th>\n      <td>M</td>\n      <td>16.60</td>\n      <td>28.08</td>\n      <td>108.30</td>\n      <td>858.1</td>\n      <td>0.08455</td>\n      <td>0.10230</td>\n      <td>0.09251</td>\n      <td>0.05302</td>\n      <td>0.1590</td>\n      <td>...</td>\n      <td>18.980</td>\n      <td>34.12</td>\n      <td>126.70</td>\n      <td>1124.0</td>\n      <td>0.11390</td>\n      <td>0.30940</td>\n      <td>0.3403</td>\n      <td>0.1418</td>\n      <td>0.2218</td>\n      <td>0.07820</td>\n    </tr>\n    <tr>\n      <th>927241</th>\n      <td>M</td>\n      <td>20.60</td>\n      <td>29.33</td>\n      <td>140.10</td>\n      <td>1265.0</td>\n      <td>0.11780</td>\n      <td>0.27700</td>\n      <td>0.35140</td>\n      <td>0.15200</td>\n      <td>0.2397</td>\n      <td>...</td>\n      <td>25.740</td>\n      <td>39.42</td>\n      <td>184.60</td>\n      <td>1821.0</td>\n      <td>0.16500</td>\n      <td>0.86810</td>\n      <td>0.9387</td>\n      <td>0.2650</td>\n      <td>0.4087</td>\n      <td>0.12400</td>\n    </tr>\n    <tr>\n      <th>92751</th>\n      <td>B</td>\n      <td>7.76</td>\n      <td>24.54</td>\n      <td>47.92</td>\n      <td>181.0</td>\n      <td>0.05263</td>\n      <td>0.04362</td>\n      <td>0.00000</td>\n      <td>0.00000</td>\n      <td>0.1587</td>\n      <td>...</td>\n      <td>9.456</td>\n      <td>30.37</td>\n      <td>59.16</td>\n      <td>268.6</td>\n      <td>0.08996</td>\n      <td>0.06444</td>\n      <td>0.0000</td>\n      <td>0.0000</td>\n      <td>0.2871</td>\n      <td>0.07039</td>\n    </tr>\n  </tbody>\n</table>\n<p>569 rows × 31 columns</p>\n</div>"
     },
     "execution_count": 18,
     "metadata": {},
     "output_type": "execute_result"
    }
   ],
   "source": [
    "import pandas as pd\n",
    "\n",
    "cancer = pd.read_csv('../../datasets/breast_cancer.csv', index_col = 0)\n",
    "cancer\n",
    "\n"
   ],
   "metadata": {
    "collapsed": true,
    "ExecuteTime": {
     "end_time": "2024-03-05T10:48:11.526308Z",
     "start_time": "2024-03-05T10:48:11.505776Z"
    }
   },
   "id": "initial_id",
   "execution_count": 18
  },
  {
   "cell_type": "code",
   "outputs": [],
   "source": [
    "cancer_y = cancer.diagnosis.values\n",
    "cancer_X = cancer.drop(columns = ['diagnosis'])"
   ],
   "metadata": {
    "collapsed": false,
    "ExecuteTime": {
     "end_time": "2024-03-05T10:48:15.719998Z",
     "start_time": "2024-03-05T10:48:15.714734Z"
    }
   },
   "id": "2a97c97a41ef69f9",
   "execution_count": 19
  },
  {
   "cell_type": "markdown",
   "source": [
    "# Split the dataset into training and testing sets (X_train, X_test, y_train, y_test)"
   ],
   "metadata": {
    "collapsed": false
   },
   "id": "eb1d51e468f36d20"
  },
  {
   "cell_type": "code",
   "outputs": [],
   "source": [
    "from sklearn.model_selection import train_test_split\n",
    "\n",
    "X_train, X_test, y_train, y_test = train_test_split(cancer_X, cancer_y, test_size=0.2, random_state=12)\n",
    "\n"
   ],
   "metadata": {
    "collapsed": false,
    "ExecuteTime": {
     "end_time": "2024-03-05T10:48:27.324513Z",
     "start_time": "2024-03-05T10:48:27.321445Z"
    }
   },
   "id": "b89f7e5892d7e3fb",
   "execution_count": 21
  },
  {
   "cell_type": "code",
   "outputs": [],
   "source": [],
   "metadata": {
    "collapsed": false
   },
   "id": "cb65570a640682f",
   "execution_count": null
  },
  {
   "cell_type": "markdown",
   "source": [
    "# Make predictions with a model (uncomment the code below for your specific dataset)"
   ],
   "metadata": {
    "collapsed": false
   },
   "id": "fd038512de9257d7"
  },
  {
   "cell_type": "code",
   "outputs": [
    {
     "data": {
      "text/plain": "array(['M', 'B', 'B', 'B', 'B', 'B', 'B', 'B', 'B', 'M', 'B', 'M', 'M',\n       'M', 'M', 'B', 'B', 'M', 'B', 'B', 'B', 'M', 'B', 'B', 'M', 'M',\n       'B', 'M', 'B', 'M', 'B', 'M', 'M', 'B', 'M', 'B', 'B', 'M', 'M',\n       'B', 'B', 'B', 'B', 'B', 'B', 'M', 'M', 'B', 'B', 'B', 'B', 'B',\n       'B', 'M', 'M', 'B', 'B', 'B', 'M', 'M', 'B', 'M', 'B', 'B', 'B',\n       'B', 'B', 'B', 'M', 'B', 'B', 'B', 'M', 'M', 'M', 'M', 'B', 'B',\n       'B', 'M', 'M', 'M', 'M', 'B', 'B', 'B', 'B', 'M', 'M', 'M', 'M',\n       'M', 'B', 'B', 'B', 'B', 'B', 'B', 'B', 'B', 'B', 'B', 'M', 'B',\n       'B', 'B', 'M', 'B', 'M', 'M', 'B', 'B', 'B', 'B'], dtype=object)"
     },
     "execution_count": 22,
     "metadata": {},
     "output_type": "execute_result"
    }
   ],
   "source": [
    "#for classification\n",
    "from sklearn.ensemble import RandomForestClassifier\n",
    "\n",
    "model = RandomForestClassifier()\n",
    "model.fit(X_train, y_train)\n",
    "predictions = model.predict(X_test)\n",
    "predictions \n",
    "\n",
    "\n",
    "#for regression\n",
    "# model = RandomForestRegressor()\n",
    "# model.fit(X_train, y_train)\n",
    "# predictions = model.predict(X_test)"
   ],
   "metadata": {
    "collapsed": false,
    "ExecuteTime": {
     "end_time": "2024-03-05T10:51:35.558668Z",
     "start_time": "2024-03-05T10:51:33.628863Z"
    }
   },
   "id": "382109436f18a1a0",
   "execution_count": 22
  },
  {
   "cell_type": "markdown",
   "source": [
    "# Evaluate the model using at least 3 different metrics"
   ],
   "metadata": {
    "collapsed": false
   },
   "id": "b67cafc168174677"
  },
  {
   "cell_type": "code",
   "outputs": [
    {
     "data": {
      "text/plain": "0.9298245614035088"
     },
     "execution_count": 26,
     "metadata": {},
     "output_type": "execute_result"
    }
   ],
   "source": [
    "from sklearn.metrics import accuracy_score\n",
    "\n",
    "accuracy = accuracy_score(y_test, predictions)\n",
    "accuracy"
   ],
   "metadata": {
    "collapsed": false,
    "ExecuteTime": {
     "end_time": "2024-03-05T10:55:01.874474Z",
     "start_time": "2024-03-05T10:55:01.871758Z"
    }
   },
   "id": "dd8bd95513bbf087",
   "execution_count": 26
  },
  {
   "cell_type": "code",
   "outputs": [
    {
     "data": {
      "text/plain": "0.9298245614035088"
     },
     "execution_count": 31,
     "metadata": {},
     "output_type": "execute_result"
    }
   ],
   "source": [
    "from sklearn.metrics import recall_score\n",
    "\n",
    "recall = recall_score(y_test, predictions, average='weighted')\n",
    "recall"
   ],
   "metadata": {
    "collapsed": false,
    "ExecuteTime": {
     "end_time": "2024-03-05T10:57:47.636289Z",
     "start_time": "2024-03-05T10:57:47.632484Z"
    }
   },
   "id": "d8ba414b39659dce",
   "execution_count": 31
  },
  {
   "cell_type": "code",
   "outputs": [
    {
     "data": {
      "text/plain": "0.933688387635756"
     },
     "execution_count": 30,
     "metadata": {},
     "output_type": "execute_result"
    }
   ],
   "source": [
    "from sklearn.metrics import precision_score\n",
    "\n",
    "precision = precision_score(y_test, predictions, average='weighted')\n",
    "precision"
   ],
   "metadata": {
    "collapsed": false,
    "ExecuteTime": {
     "end_time": "2024-03-05T10:57:20.945556Z",
     "start_time": "2024-03-05T10:57:20.940241Z"
    }
   },
   "id": "26d45dbfe95f9be7",
   "execution_count": 30
  },
  {
   "cell_type": "markdown",
   "source": [
    "# Use error estimation techniques to get a sense of how well your model will generalize to new data"
   ],
   "metadata": {
    "collapsed": false
   },
   "id": "9cc02d8096026c8e"
  },
  {
   "cell_type": "code",
   "outputs": [
    {
     "data": {
      "text/plain": "array([0.91304348, 0.91304348, 0.91304348, 0.95652174, 1.        ])"
     },
     "execution_count": 32,
     "metadata": {},
     "output_type": "execute_result"
    }
   ],
   "source": [
    "# Holdout validation\n",
    "from sklearn.model_selection import cross_val_score\n",
    "\n",
    "accuracy = cross_val_score(model, X_test, y_test , cv=5 , scoring='accuracy')\n",
    "accuracy\n"
   ],
   "metadata": {
    "collapsed": false,
    "ExecuteTime": {
     "end_time": "2024-03-05T11:01:17.822313Z",
     "start_time": "2024-03-05T11:01:17.587893Z"
    }
   },
   "id": "9a47789763236cd9",
   "execution_count": 32
  },
  {
   "cell_type": "code",
   "outputs": [
    {
     "data": {
      "text/plain": "(0.9391304347826086, 0.0347826086956522)"
     },
     "execution_count": 33,
     "metadata": {},
     "output_type": "execute_result"
    }
   ],
   "source": [
    "accuracy.mean() , accuracy.std()"
   ],
   "metadata": {
    "collapsed": false,
    "ExecuteTime": {
     "end_time": "2024-03-05T11:01:53.097346Z",
     "start_time": "2024-03-05T11:01:53.094020Z"
    }
   },
   "id": "55cbf57b81003a40",
   "execution_count": 33
  },
  {
   "cell_type": "code",
   "outputs": [],
   "source": [
    "# Cross-validation\n",
    "# \n"
   ],
   "metadata": {
    "collapsed": false,
    "ExecuteTime": {
     "end_time": "2024-03-04T17:08:07.218862333Z",
     "start_time": "2024-03-04T17:08:07.207989677Z"
    }
   },
   "id": "112f01d2de419031",
   "execution_count": 6
  }
 ],
 "metadata": {
  "kernelspec": {
   "display_name": "Python 3",
   "language": "python",
   "name": "python3"
  },
  "language_info": {
   "codemirror_mode": {
    "name": "ipython",
    "version": 2
   },
   "file_extension": ".py",
   "mimetype": "text/x-python",
   "name": "python",
   "nbconvert_exporter": "python",
   "pygments_lexer": "ipython2",
   "version": "2.7.6"
  }
 },
 "nbformat": 4,
 "nbformat_minor": 5
}
