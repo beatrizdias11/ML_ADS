{
 "cells": [
  {
   "cell_type": "markdown",
   "source": [
    "# Load a dataset of your choice from the datasets directory (breast_cancer.csv --> binary classification, iris.csv --> multiclass classification, wines.csv --> multiclass classification, diabetes.csv --> regression)"
   ],
   "metadata": {
    "collapsed": false
   },
   "id": "b77b00f2c6c7e203"
  },
  {
   "cell_type": "code",
   "outputs": [],
   "source": [
    "# add code here\n"
   ],
   "metadata": {
    "collapsed": true,
    "ExecuteTime": {
     "end_time": "2024-03-04T17:05:11.397368494Z",
     "start_time": "2024-03-04T17:05:11.387249299Z"
    }
   },
   "id": "initial_id",
   "execution_count": 3
  },
  {
   "cell_type": "markdown",
   "source": [
    "# Split the dataset into training and testing sets (X_train, X_test, y_train, y_test)"
   ],
   "metadata": {
    "collapsed": false
   },
   "id": "eb1d51e468f36d20"
  },
  {
   "cell_type": "code",
   "outputs": [],
   "source": [
    "# add code here\n"
   ],
   "metadata": {
    "collapsed": false
   },
   "id": "b89f7e5892d7e3fb"
  },
  {
   "cell_type": "markdown",
   "source": [
    "# Make predictions with a model (uncomment the code below for your specific dataset)"
   ],
   "metadata": {
    "collapsed": false
   },
   "id": "fd038512de9257d7"
  },
  {
   "cell_type": "code",
   "outputs": [],
   "source": [
    "# for classification\n",
    "# model = RandomForestClassifier()\n",
    "# model.fit(X_train, y_train)\n",
    "# predictions = model.predict(X_test)\n",
    "\n",
    "# for regression\n",
    "# model = RandomForestRegressor()\n",
    "# model.fit(X_train, y_train)\n",
    "# predictions = model.predict(X_test)"
   ],
   "metadata": {
    "collapsed": false
   },
   "id": "382109436f18a1a0"
  },
  {
   "cell_type": "markdown",
   "source": [
    "# Evaluate the model using at least 3 different metrics"
   ],
   "metadata": {
    "collapsed": false
   },
   "id": "b67cafc168174677"
  },
  {
   "cell_type": "code",
   "outputs": [],
   "source": [
    "# add code here\n"
   ],
   "metadata": {
    "collapsed": false,
    "ExecuteTime": {
     "end_time": "2024-03-04T17:07:23.955547039Z",
     "start_time": "2024-03-04T17:07:23.940025198Z"
    }
   },
   "id": "dd8bd95513bbf087",
   "execution_count": 4
  },
  {
   "cell_type": "markdown",
   "source": [
    "# Use error estimation techniques to get a sense of how well your model will generalize to new data"
   ],
   "metadata": {
    "collapsed": false
   },
   "id": "9cc02d8096026c8e"
  },
  {
   "cell_type": "code",
   "outputs": [],
   "source": [
    "# Holdout validation\n",
    "# add code here\n"
   ],
   "metadata": {
    "collapsed": false,
    "ExecuteTime": {
     "end_time": "2024-03-04T17:08:03.306557071Z",
     "start_time": "2024-03-04T17:08:03.289673697Z"
    }
   },
   "id": "9a47789763236cd9",
   "execution_count": 5
  },
  {
   "cell_type": "code",
   "outputs": [],
   "source": [
    "# Cross-validation\n",
    "# add code here\n"
   ],
   "metadata": {
    "collapsed": false,
    "ExecuteTime": {
     "end_time": "2024-03-04T17:08:07.218862333Z",
     "start_time": "2024-03-04T17:08:07.207989677Z"
    }
   },
   "id": "112f01d2de419031",
   "execution_count": 6
  }
 ],
 "metadata": {
  "kernelspec": {
   "display_name": "Python 3",
   "language": "python",
   "name": "python3"
  },
  "language_info": {
   "codemirror_mode": {
    "name": "ipython",
    "version": 2
   },
   "file_extension": ".py",
   "mimetype": "text/x-python",
   "name": "python",
   "nbconvert_exporter": "python",
   "pygments_lexer": "ipython2",
   "version": "2.7.6"
  }
 },
 "nbformat": 4,
 "nbformat_minor": 5
}
